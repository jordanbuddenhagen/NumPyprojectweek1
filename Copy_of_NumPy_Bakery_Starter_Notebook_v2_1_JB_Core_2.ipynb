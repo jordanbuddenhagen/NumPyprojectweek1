{
  "cells": [
    {
      "cell_type": "markdown",
      "metadata": {
        "id": "view-in-github",
        "colab_type": "text"
      },
      "source": [
        "<a href=\"https://colab.research.google.com/github/jordanbuddenhagen/NumPyprojectweek1/blob/main/Copy_of_NumPy_Bakery_Starter_Notebook_v2_1_JB_Core_2.ipynb\" target=\"_parent\"><img src=\"https://colab.research.google.com/assets/colab-badge.svg\" alt=\"Open In Colab\"/></a>"
      ]
    },
    {
      "cell_type": "markdown",
      "metadata": {
        "id": "DFzmQA3hQcbr"
      },
      "source": [
        "# NumPy Bakery Starter Notebook"
      ]
    },
    {
      "cell_type": "markdown",
      "source": [
        "- Student Name: \n"
      ],
      "metadata": {
        "id": "JqdV4mq6_q1J"
      }
    },
    {
      "cell_type": "markdown",
      "source": [
        "## Instructions"
      ],
      "metadata": {
        "id": "UNK_9hiY27Y1"
      }
    },
    {
      "cell_type": "markdown",
      "source": [
        " The first portion of the notebook is the content from the related lesson that is required to continue the activity. \n",
        " \n",
        "- Jump down to the \"✍️ **Assignment Starts Here**\" header to begin your work.\n"
      ],
      "metadata": {
        "id": "rBw1QrGq28lg"
      }
    },
    {
      "cell_type": "markdown",
      "metadata": {
        "id": "Jz0Y8l-cVZQE"
      },
      "source": [
        "#  📚 Bake Sale Mini-Project (From Lesson)"
      ]
    },
    {
      "cell_type": "markdown",
      "metadata": {
        "id": "1eH2K7UxbCwC"
      },
      "source": [
        "## Our Task"
      ]
    },
    {
      "cell_type": "markdown",
      "metadata": {
        "id": "jKunQXa_UJ0O"
      },
      "source": [
        "\n",
        "Often in your work as a data science you will be loading outside datasets into your Python environment.  Today, however, we will create a simple data set for a mini-project analyzing the results of a bake sale.\n",
        "\n",
        "Let's suppose the \"Teens for Tech\" club has asked you to help them analyze data from their ongoing bake sale.  \n",
        "\n",
        "- They are planning on selling the following baked goods every day for a week.\n",
        "    - brownie: \\$2\n",
        "    - cookie: \\$1\n",
        "    - cake: $10\n",
        "\n",
        "- They were hoping to raise $200. \n",
        "\n",
        "\n",
        "\n"
      ]
    },
    {
      "cell_type": "markdown",
      "metadata": {
        "id": "nJakgQbbXVBs"
      },
      "source": [
        "## 1) Starting with Lists"
      ]
    },
    {
      "cell_type": "markdown",
      "metadata": {
        "id": "jJ3wsrw9UUT2"
      },
      "source": [
        "#### Names\n",
        "1. Declare a variable, `names_list`, that is a list containing the names of the baked goods they plan to sell.\n",
        "2. Print the names list.\n"
      ]
    },
    {
      "cell_type": "code",
      "execution_count": 2,
      "metadata": {
        "id": "25mrA5oC8x4o",
        "outputId": "e8fc62e0-79b1-4af2-b6c5-8d79ad5ae32e",
        "colab": {
          "base_uri": "https://localhost:8080/"
        }
      },
      "outputs": [
        {
          "output_type": "stream",
          "name": "stdout",
          "text": [
            "['brownie', 'cookie', 'cake']\n"
          ]
        }
      ],
      "source": [
        "names_list = ['brownie','cookie','cake']\n",
        "print(names_list)"
      ]
    },
    {
      "cell_type": "markdown",
      "metadata": {
        "id": "SPH5SFvWVj4c"
      },
      "source": [
        "#### Prices\n",
        "\n",
        "\n",
        "\n",
        "1. Declare a second variable, `prices_list`, that is a list containing the prices of each good (as integers). \n",
        "    - Make that you have the names and prices in the same order (if brownie is first in your names list, then its price should be the first value in your prices list).\n",
        "\n",
        "\n",
        "2. Print the prices list.\n"
      ]
    },
    {
      "cell_type": "code",
      "execution_count": 3,
      "metadata": {
        "id": "Gd8Vdol_UtvR",
        "outputId": "92b01025-ce09-4090-9031-e9bfe963a079",
        "colab": {
          "base_uri": "https://localhost:8080/"
        }
      },
      "outputs": [
        {
          "output_type": "stream",
          "name": "stdout",
          "text": [
            "[2, 1, 10]\n"
          ]
        }
      ],
      "source": [
        "prices_list = [2,1,10]\n",
        "print(prices_list)"
      ]
    },
    {
      "cell_type": "markdown",
      "metadata": {
        "id": "RvXu7yr8bUkf"
      },
      "source": [
        "## Bake Sale Results (So Far)"
      ]
    },
    {
      "cell_type": "markdown",
      "metadata": {
        "id": "VJ-0FJq9U9BG"
      },
      "source": [
        "#### Quantities Sold"
      ]
    },
    {
      "cell_type": "markdown",
      "metadata": {
        "id": "aZROpt8wVBoe"
      },
      "source": [
        "- So far, the club has sold:\n",
        "    - 17 brownies\n",
        "    - 40 cookies\n",
        "    - and 1 cake.  \n",
        "\n",
        "1. Declare a new list with these values called `quantities_sold_list`.\n",
        "2. Print the quantities_sold_list.\n",
        "\n"
      ]
    },
    {
      "cell_type": "code",
      "execution_count": 4,
      "metadata": {
        "id": "UPIqJP6kVBhE",
        "outputId": "567c63b0-e253-4274-f3ac-4fe7c376421a",
        "colab": {
          "base_uri": "https://localhost:8080/"
        }
      },
      "outputs": [
        {
          "output_type": "stream",
          "name": "stdout",
          "text": [
            "[17, 40, 1]\n"
          ]
        }
      ],
      "source": [
        "quantities_sold_list = [17, 40, 1]\n",
        "print(quantities_sold_list)"
      ]
    },
    {
      "cell_type": "markdown",
      "metadata": {
        "id": "XC1qc8Z7Xb27"
      },
      "source": [
        "### Calculating the Sales"
      ]
    },
    {
      "cell_type": "markdown",
      "metadata": {
        "id": "CIo2OJTEJnDU"
      },
      "source": [
        "You should now have:\n",
        "- a list called `names` that contains 'brownie', 'cookie', 'cake'\n",
        "-  a list called `prices` that contains 2,1,10.\n",
        "- a list called `quantity_sold` that contains 17, 40, 1.\n",
        "\n",
        "\n",
        "We want to calculate the total money earned from each of the baked goods so far. We simply need to multiple each price by the corresponding quanity sold. \n"
      ]
    },
    {
      "cell_type": "code",
      "execution_count": 5,
      "metadata": {
        "id": "TZmJEZ_VYLMN"
      },
      "outputs": [],
      "source": [
        "# prices_list * quantities_sold_list"
      ]
    },
    {
      "cell_type": "markdown",
      "metadata": {
        "id": "-l6Qp0iLCDJO"
      },
      "source": [
        "##  Creating a NumPy Array\n"
      ]
    },
    {
      "cell_type": "code",
      "execution_count": 6,
      "metadata": {
        "id": "acvzeajlAUVW"
      },
      "outputs": [],
      "source": [
        "import numpy as np"
      ]
    },
    {
      "cell_type": "markdown",
      "metadata": {
        "id": "1dMt45SFV2Uu"
      },
      "source": [
        "### Converting Our Lists to 1-dimensional Arrays"
      ]
    },
    {
      "cell_type": "markdown",
      "metadata": {
        "id": "fXBNCj8VV0dp"
      },
      "source": [
        "\n",
        "\n",
        "You can use the function `np.array()` to change a Python collection into a NumPy array.\n",
        "\n",
        "- Create new numpy array versions of the `prices_list`, `quantities_sold_list`, and `names_list`.\n",
        "    - We can drop the `_list` from the names of our new variables.\n",
        "- Print each of them\n",
        "\n",
        "The result should look like a list with no commas."
      ]
    },
    {
      "cell_type": "code",
      "execution_count": 7,
      "metadata": {
        "id": "kmeAiZNnCbKk",
        "outputId": "0c13d1c8-6b99-45eb-8e2a-e8f6321de7b2",
        "colab": {
          "base_uri": "https://localhost:8080/"
        }
      },
      "outputs": [
        {
          "output_type": "stream",
          "name": "stdout",
          "text": [
            "['brownie' 'cookie' 'cake']\n",
            "[ 2  1 10]\n",
            "[17 40  1]\n"
          ]
        }
      ],
      "source": [
        "names = np.array(names_list)\n",
        "print(names)\n",
        "\n",
        "\n",
        "prices = np.array(prices_list)\n",
        "print(prices)\n",
        "\n",
        "quantities_sold = np.array(quantities_sold_list)\n",
        "print(quantities_sold)"
      ]
    },
    {
      "cell_type": "markdown",
      "metadata": {
        "id": "e-0waIaCKSNV"
      },
      "source": [
        "\n",
        "\n",
        "Arrays are ordered and mutable, just like lists, but they are faster to and more efficient to store in memory.\n"
      ]
    },
    {
      "cell_type": "markdown",
      "metadata": {
        "id": "t0uSS3fIY8P_"
      },
      "source": [
        "### Arrays can be multiplied\n"
      ]
    },
    {
      "cell_type": "markdown",
      "metadata": {
        "id": "w75-ySRXjeZc"
      },
      "source": [
        "\n",
        "#### Calculating Our Sales (For real this time!)"
      ]
    },
    {
      "cell_type": "code",
      "execution_count": 8,
      "metadata": {
        "id": "2CSkh9UUZMHu",
        "outputId": "e94f0e32-93e9-4f1b-95f7-d457077ac469",
        "colab": {
          "base_uri": "https://localhost:8080/"
        }
      },
      "outputs": [
        {
          "output_type": "execute_result",
          "data": {
            "text/plain": [
              "array([34, 40, 10])"
            ]
          },
          "metadata": {},
          "execution_count": 8
        }
      ],
      "source": [
        "prices * quantities_sold"
      ]
    },
    {
      "cell_type": "markdown",
      "metadata": {
        "id": "rVodLeHtZY5w"
      },
      "source": [
        "## 4) Elementwise Calculations\n"
      ]
    },
    {
      "cell_type": "markdown",
      "metadata": {
        "id": "GlPZVefyjsbq"
      },
      "source": [
        "\n",
        "As you saw anobe we calcualted the revenue for each bake good so far, the multiplication was applied between the first element of each array, then between the second element of each array, and so on.   This is known as an ***\"elementwise\" calculation***.  \n",
        "\n",
        "\n",
        "\n",
        "Let's look at another example of elementwise calculations by factoring in the cost to make each baked good.\n",
        "\n",
        "\n"
      ]
    },
    {
      "cell_type": "markdown",
      "metadata": {
        "id": "BXb1pd3jZvlx"
      },
      "source": [
        "#### Accounting for Costs"
      ]
    },
    {
      "cell_type": "markdown",
      "metadata": {
        "id": "XbxdvuMGZvBM"
      },
      "source": [
        "The club wants to account for the cost of each baked good so that we can calculate the revenue for each baked good (Revenue = profit - cost).\n",
        "\n",
        "The cost to make each baked good is:\n",
        "- a brownie costs \\$0.25 to make.\n",
        "- a cookie costs \\$0.50 to make.\n",
        "- a cake costs \\$5.00 to make.\n"
      ]
    },
    {
      "cell_type": "markdown",
      "metadata": {
        "id": "FBxtXZnSaUqw"
      },
      "source": [
        "\n",
        "Now, let's create an array that corresponds to the cost to make each of the items sold at the bake sale.\n"
      ]
    },
    {
      "cell_type": "code",
      "execution_count": 9,
      "metadata": {
        "id": "MGawdexsahjT",
        "outputId": "2e1ec3ac-c1c5-450a-d60b-063afcd47365",
        "colab": {
          "base_uri": "https://localhost:8080/"
        }
      },
      "outputs": [
        {
          "output_type": "stream",
          "name": "stdout",
          "text": [
            "[0.25 0.5  5.  ]\n"
          ]
        }
      ],
      "source": [
        "cost_list = [0.25, 0.50, 5.00]\n",
        "costs = np.array(cost_list)\n",
        "print(costs)"
      ]
    },
    {
      "cell_type": "markdown",
      "metadata": {
        "id": "GxjE1Bsh4E0X"
      },
      "source": [
        "- Note: we can actually do this in 1 step by creating our list inside of np.array instead of saving it as a separate varaible first."
      ]
    },
    {
      "cell_type": "code",
      "execution_count": 10,
      "metadata": {
        "id": "qK2EK7EA4M5R",
        "outputId": "ef4d6d19-ac2f-42f2-a8cc-af24019f46a4",
        "colab": {
          "base_uri": "https://localhost:8080/"
        }
      },
      "outputs": [
        {
          "output_type": "stream",
          "name": "stdout",
          "text": [
            "[0.25 0.5  5.  ]\n"
          ]
        }
      ],
      "source": [
        "expenses = np.array([0.25, 0.50, 5.00])\n",
        "print(expenses)"
      ]
    },
    {
      "cell_type": "markdown",
      "metadata": {
        "id": "t1pPAw24j_W2"
      },
      "source": [
        "### Calculating Profits "
      ]
    },
    {
      "cell_type": "markdown",
      "metadata": {
        "id": "28lF8qRFkAV1"
      },
      "source": [
        "- To find the profit of each baked good, we want to subtract the cost from the price. \n"
      ]
    },
    {
      "cell_type": "code",
      "execution_count": 11,
      "metadata": {
        "id": "hjJTmg-3ahhQ",
        "outputId": "f6576eaf-78a3-4fa6-e7fc-54b6c782f279",
        "colab": {
          "base_uri": "https://localhost:8080/"
        }
      },
      "outputs": [
        {
          "output_type": "execute_result",
          "data": {
            "text/plain": [
              "array([1.75, 0.5 , 5.  ])"
            ]
          },
          "metadata": {},
          "execution_count": 11
        }
      ],
      "source": [
        "profits = prices - expenses\n",
        "profits"
      ]
    },
    {
      "cell_type": "markdown",
      "metadata": {
        "id": "NlM95vONnJ5n"
      },
      "source": [
        "## 5) Appending, Deleting, and Replacing Elements in a NumPy "
      ]
    },
    {
      "cell_type": "markdown",
      "metadata": {
        "id": "trdkKaccnTw1"
      },
      "source": [
        "#### Appending\n"
      ]
    },
    {
      "cell_type": "markdown",
      "metadata": {
        "id": "ED8rG7XbnVwp"
      },
      "source": [
        "\n",
        "The club will also sell pies for $7 so we need to update our price_array.  \n",
        "\n",
        "Based on your experience with lists, ***you might think the following code would work*** to include an additional element to our array:  "
      ]
    },
    {
      "cell_type": "code",
      "execution_count": 12,
      "metadata": {
        "id": "nORxCKGGnTix",
        "outputId": "472cf09d-2367-49ff-f7de-1c0940c29302",
        "colab": {
          "base_uri": "https://localhost:8080/"
        }
      },
      "outputs": [
        {
          "output_type": "execute_result",
          "data": {
            "text/plain": [
              "array([ 9,  8, 17])"
            ]
          },
          "metadata": {},
          "execution_count": 12
        }
      ],
      "source": [
        "prices = prices + [7]\n",
        "prices"
      ]
    },
    {
      "cell_type": "markdown",
      "metadata": {
        "id": "TUfla5CKsKig"
      },
      "source": [
        "Wait! This is **not** the output we wanted!   The NumPy array did what it does best: it added seven to *each element* in the array.  \n",
        "\n",
        "To get back to the original values, we will subtract 7, then use the np.append() function to include the value 7 as desired."
      ]
    },
    {
      "cell_type": "code",
      "execution_count": 13,
      "metadata": {
        "id": "9LZsXnqfsKW1",
        "outputId": "f184f04a-0e01-4ee9-e91f-0692b5f292ca",
        "colab": {
          "base_uri": "https://localhost:8080/"
        }
      },
      "outputs": [
        {
          "output_type": "execute_result",
          "data": {
            "text/plain": [
              "array([ 2,  1, 10])"
            ]
          },
          "metadata": {},
          "execution_count": 13
        }
      ],
      "source": [
        "# Just fixing the mistake\n",
        "prices = prices - [7]\n",
        "prices"
      ]
    },
    {
      "cell_type": "code",
      "execution_count": 14,
      "metadata": {
        "id": "2RHe95jZs2IA",
        "outputId": "c7422689-7671-4539-b8c1-677588188eb8",
        "colab": {
          "base_uri": "https://localhost:8080/"
        }
      },
      "outputs": [
        {
          "output_type": "execute_result",
          "data": {
            "text/plain": [
              "array([ 2,  1, 10,  7])"
            ]
          },
          "metadata": {},
          "execution_count": 14
        }
      ],
      "source": [
        "# The proper way to append an element to an array\n",
        "prices = np.append(prices, 7)\n",
        "prices"
      ]
    },
    {
      "cell_type": "markdown",
      "metadata": {
        "id": "CpebBDAntB4p"
      },
      "source": [
        "- Let's also append the name for our new baked good to our names array."
      ]
    },
    {
      "cell_type": "code",
      "execution_count": 15,
      "metadata": {
        "id": "dau7ny5TtJkW",
        "outputId": "4821a1a9-2864-44e3-86f6-9c0336e9042a",
        "colab": {
          "base_uri": "https://localhost:8080/"
        }
      },
      "outputs": [
        {
          "output_type": "execute_result",
          "data": {
            "text/plain": [
              "array(['brownie', 'cookie', 'cake', 'pie'], dtype='<U7')"
            ]
          },
          "metadata": {},
          "execution_count": 15
        }
      ],
      "source": [
        "names = np.append(names, 'pie')\n",
        "names"
      ]
    },
    {
      "cell_type": "markdown",
      "metadata": {
        "id": "EOuJBaz_tasY"
      },
      "source": [
        "##### Appending Multiple Elements at Once\n",
        "\n",
        "You can also append multiple values to the array in one command.  \n",
        "\n",
        "For example, the club want to add the following prices:  \n",
        "  - \\$4.50 for fudge\n",
        "  - \\$3 for a cupcake\n",
        "  - \\$4 for a loaf of banana bread\n",
        "  - \\$9 for a torte. \n",
        "  \n",
        "Notice the use of the square brackets in the following code that appends all four values to the array at once:"
      ]
    },
    {
      "cell_type": "code",
      "execution_count": 16,
      "metadata": {
        "id": "bWRXeqc5tqJs",
        "outputId": "d9f52680-0969-4e78-e83f-61aa01f7d456",
        "colab": {
          "base_uri": "https://localhost:8080/"
        }
      },
      "outputs": [
        {
          "output_type": "execute_result",
          "data": {
            "text/plain": [
              "array([ 2. ,  1. , 10. ,  7. ,  4.5,  3. ,  4. ,  9. ])"
            ]
          },
          "metadata": {},
          "execution_count": 16
        }
      ],
      "source": [
        "prices = np.append(prices, [4.50, 3, 4, 9])\n",
        "prices"
      ]
    },
    {
      "cell_type": "markdown",
      "metadata": {
        "id": "UxHvF_e6ttbW"
      },
      "source": [
        "- Now let's append the new baked good's names to our names array."
      ]
    },
    {
      "cell_type": "code",
      "execution_count": 17,
      "metadata": {
        "id": "o3iARwB5twUx",
        "outputId": "cfafaa8e-eb6e-4f57-bb42-e145f6639b2e",
        "colab": {
          "base_uri": "https://localhost:8080/"
        }
      },
      "outputs": [
        {
          "output_type": "execute_result",
          "data": {
            "text/plain": [
              "array(['brownie', 'cookie', 'cake', 'pie', 'fudge', 'cupcake',\n",
              "       'banana bread', 'torte'], dtype='<U12')"
            ]
          },
          "metadata": {},
          "execution_count": 17
        }
      ],
      "source": [
        "names = np.append(names, ['fudge','cupcake','banana bread','torte'])\n",
        "names"
      ]
    },
    {
      "cell_type": "markdown",
      "metadata": {
        "id": "4QhmxbWkuE9K"
      },
      "source": [
        "### Deleting\n"
      ]
    },
    {
      "cell_type": "markdown",
      "metadata": {
        "id": "FrsOiTi-uMZr"
      },
      "source": [
        "\n",
        "It turns out nobody plans to make a torte, so they want to remove the price of that item from the prices array and its name from the names array.\n",
        "\n",
        "\n",
        "We will use the np.delete() command, but we need to indicate which element to delete.  \n",
        "\n",
        "We use indexing (much the same as indexing for lists) to indicate we want to remove the element at index 7 (remember to use zero-indexing) or since it is the last element, we could go from the right and use element -1.  \n"
      ]
    },
    {
      "cell_type": "code",
      "execution_count": 18,
      "metadata": {
        "id": "aLWTovETuS-5",
        "outputId": "727aa6ad-f90e-442a-8efd-694567d48624",
        "colab": {
          "base_uri": "https://localhost:8080/",
          "height": 69
        }
      },
      "outputs": [
        {
          "output_type": "display_data",
          "data": {
            "text/plain": [
              "array(['brownie', 'cookie', 'cake', 'pie', 'fudge', 'cupcake',\n",
              "       'banana bread'], dtype='<U12')"
            ]
          },
          "metadata": {}
        },
        {
          "output_type": "execute_result",
          "data": {
            "text/plain": [
              "array([ 2. ,  1. , 10. ,  7. ,  4.5,  3. ,  4. ])"
            ]
          },
          "metadata": {},
          "execution_count": 18
        }
      ],
      "source": [
        "names = np.delete(names, -1)\n",
        "display(names)\n",
        "\n",
        "prices = np.delete(prices, -1)\n",
        "prices"
      ]
    },
    {
      "cell_type": "markdown",
      "metadata": {
        "id": "e2YqCUAIuUcM"
      },
      "source": [
        "\n",
        "### Replacing\n"
      ]
    },
    {
      "cell_type": "markdown",
      "metadata": {
        "id": "cqmATMozukMg"
      },
      "source": [
        "The club decided to raise the price of cakes from $10 to $12. We need to reflect this in our prices array.\n",
        "\n",
        "\n",
        "Once again, we will need to identify the element using the index.  Cakes are at index 2.\n"
      ]
    },
    {
      "cell_type": "code",
      "execution_count": 19,
      "metadata": {
        "id": "vRUE9C1fvD-z",
        "outputId": "47fb5846-71a0-4207-c439-7caf3ea880ad",
        "colab": {
          "base_uri": "https://localhost:8080/"
        }
      },
      "outputs": [
        {
          "output_type": "stream",
          "name": "stdout",
          "text": [
            "cake\n"
          ]
        },
        {
          "output_type": "execute_result",
          "data": {
            "text/plain": [
              "10.0"
            ]
          },
          "metadata": {},
          "execution_count": 19
        }
      ],
      "source": [
        "print(names[2])\n",
        "prices[2]"
      ]
    },
    {
      "cell_type": "code",
      "execution_count": 20,
      "metadata": {
        "id": "mFQs0sNFutrI",
        "outputId": "c5b9b996-96af-4de7-8237-233c7a4efd8f",
        "colab": {
          "base_uri": "https://localhost:8080/"
        }
      },
      "outputs": [
        {
          "output_type": "stream",
          "name": "stdout",
          "text": [
            "cake\n"
          ]
        },
        {
          "output_type": "execute_result",
          "data": {
            "text/plain": [
              "12.0"
            ]
          },
          "metadata": {},
          "execution_count": 20
        }
      ],
      "source": [
        "## updating prices for cakes at index 2\n",
        "prices[2] = 12\n",
        "\n",
        "print(names[2])\n",
        "prices[2]"
      ]
    },
    {
      "cell_type": "markdown",
      "source": [
        "# ✍️ **Assignment Starts Here**\n"
      ],
      "metadata": {
        "id": "cCp6pY2CAVDv"
      }
    },
    {
      "cell_type": "markdown",
      "source": [
        "- You can add as many code cells as you need (or delete any that you don't need).\n",
        "\n",
        "- **Make sure you've run all of the code before this cell.**\n",
        "  - To do so, click on this text cell and then on the toolbar menu:\n",
        "    - click on the `Runtime` menu\n",
        "    - select `Run before`."
      ],
      "metadata": {
        "id": "H9fW1eN2ByWE"
      }
    },
    {
      "cell_type": "markdown",
      "source": [
        "1) Use the enumerate function to print out the index # and name of every baked good in your `names` array."
      ],
      "metadata": {
        "id": "RtVWhuH2E8MQ"
      }
    },
    {
      "cell_type": "code",
      "source": [
        "# use enumerate to print the index # and name together\n",
        "for x, name in enumerate(names): \n",
        "  print(f'{x}: {name}')"
      ],
      "metadata": {
        "id": "F0lZs-NnFn2T",
        "outputId": "e936af0f-31b1-41e4-84bb-f13d7c4b9541",
        "colab": {
          "base_uri": "https://localhost:8080/"
        }
      },
      "execution_count": 21,
      "outputs": [
        {
          "output_type": "stream",
          "name": "stdout",
          "text": [
            "0: brownie\n",
            "1: cookie\n",
            "2: cake\n",
            "3: pie\n",
            "4: fudge\n",
            "5: cupcake\n",
            "6: banana bread\n"
          ]
        }
      ]
    },
    {
      "cell_type": "markdown",
      "source": [
        "2) Update the quantities_sold array to include the sale of 2 pies, 3 trays of fudge, 16 cupcakes, and 5 loaves of banana bread. You also realize that one of the cookies you thought was sold had actually fallen on the ground, so edit the quantities_sold_array from 40 to 39.\n"
      ],
      "metadata": {
        "id": "IvQpN-cWDwzf"
      }
    },
    {
      "cell_type": "code",
      "source": [
        "quantities_sold = np.append(quantities_sold, [2, 3, 16, 5])\n",
        "quantities_sold"
      ],
      "metadata": {
        "id": "p3AziGN1Bi_4",
        "colab": {
          "base_uri": "https://localhost:8080/"
        },
        "outputId": "b2bc2814-e61c-46f6-cf39-53db7a84533f"
      },
      "execution_count": 24,
      "outputs": [
        {
          "output_type": "execute_result",
          "data": {
            "text/plain": [
              "array([17, 40,  1,  2,  3, 16,  5])"
            ]
          },
          "metadata": {},
          "execution_count": 24
        }
      ]
    },
    {
      "cell_type": "code",
      "source": [
        "quantities_sold[1] = 39 \n",
        "quantities_sold"
      ],
      "metadata": {
        "id": "Vf-XqvuSEPMw",
        "colab": {
          "base_uri": "https://localhost:8080/"
        },
        "outputId": "5d1c3344-8f6c-4fe4-97ce-96b2c14c898c"
      },
      "execution_count": 26,
      "outputs": [
        {
          "output_type": "execute_result",
          "data": {
            "text/plain": [
              "array([17, 39,  1,  2,  3, 16,  5])"
            ]
          },
          "metadata": {},
          "execution_count": 26
        }
      ]
    },
    {
      "cell_type": "markdown",
      "source": [
        "\n",
        "3) Determine the amount of money collected from the sale of each item at the bake sale."
      ],
      "metadata": {
        "id": "Gr-iWIApEPlj"
      }
    },
    {
      "cell_type": "code",
      "source": [
        "for x, name in enumerate(names): \n",
        "  a = prices[x] * quantities_sold[x] \n",
        "  print(f\"{x}: {name}, money collceted = {a}\")"
      ],
      "metadata": {
        "id": "6ZyU1q-KEP_-",
        "colab": {
          "base_uri": "https://localhost:8080/"
        },
        "outputId": "9426e040-625b-4dd2-f27f-5cbdc3f641dc"
      },
      "execution_count": 32,
      "outputs": [
        {
          "output_type": "stream",
          "name": "stdout",
          "text": [
            "0: brownie, money collceted = 34.0\n",
            "1: cookie, money collceted = 39.0\n",
            "2: cake, money collceted = 12.0\n",
            "3: pie, money collceted = 14.0\n",
            "4: fudge, money collceted = 13.5\n",
            "5: cupcake, money collceted = 48.0\n",
            "6: banana bread, money collceted = 20.0\n"
          ]
        }
      ]
    },
    {
      "cell_type": "markdown",
      "source": [
        "4) Create a NumPy array \"quantity_leftover\" that includes the quantity of each item remaining at the end of the sale: 2 cakes, 1 pie, 6 trays of fudge, 2 loaves of banana bread. Hint: Make sure to include \"0\" for any item that was sold out. Why is this important when creating the array?"
      ],
      "metadata": {
        "id": "rlqaEimGER37"
      }
    },
    {
      "cell_type": "code",
      "source": [
        "quantity_leftover = np.array([0, 0, 2, 1, 6, 0, 2]) \n",
        "quantity_leftover"
      ],
      "metadata": {
        "id": "Q1ef1PnBETpu",
        "colab": {
          "base_uri": "https://localhost:8080/"
        },
        "outputId": "f0874789-9471-495e-825c-f673806c3920"
      },
      "execution_count": 33,
      "outputs": [
        {
          "output_type": "execute_result",
          "data": {
            "text/plain": [
              "array([0, 0, 2, 1, 6, 0, 2])"
            ]
          },
          "metadata": {},
          "execution_count": 33
        }
      ]
    },
    {
      "cell_type": "markdown",
      "source": [
        "5) The club decides to sell the leftover items at half price and everything quickly sells out! Determine how much money was collected from the clearance sale."
      ],
      "metadata": {
        "id": "3cWlEbs6EVii"
      }
    },
    {
      "cell_type": "code",
      "source": [
        "#1/2 price \n",
        "for x, name in enumerate(names): \n",
        "  b = prices[x] * .5 \n",
        "  c = quantity_leftover[x] * b\n",
        "  print(f\"{x}: {name}, clearence sale = {c}\")"
      ],
      "metadata": {
        "id": "HUs0GgLREWZV",
        "colab": {
          "base_uri": "https://localhost:8080/"
        },
        "outputId": "50e7a3e6-2f31-4fa7-e40c-8fdb77a2b74b"
      },
      "execution_count": 57,
      "outputs": [
        {
          "output_type": "stream",
          "name": "stdout",
          "text": [
            "0: brownie, clearence sale = 0.0\n",
            "1: cookie, clearence sale = 0.0\n",
            "2: cake, clearence sale = 12.0\n",
            "3: pie, clearence sale = 3.5\n",
            "4: fudge, clearence sale = 13.5\n",
            "5: cupcake, clearence sale = 0.0\n",
            "6: banana bread, clearence sale = 4.0\n"
          ]
        }
      ]
    },
    {
      "cell_type": "markdown",
      "source": [
        "6) How much total money was collected from the bake sale (including the sale of full price and clearance items)?\n",
        "Hint: Your final answer should be $213.50, but you must make sure you get this answer with your NumPy coding skills!!"
      ],
      "metadata": {
        "id": "46ELx-5PEXdN"
      }
    },
    {
      "cell_type": "code",
      "source": [
        "for x, name in enumerate(names): \n",
        "  \n",
        "  a = prices[x] * quantities_sold[x] \n",
        "  b = prices[x] * .5 \n",
        "  c = quantity_leftover[x] * b\n",
        "  total = c + a #c = clearance , a = original price \n",
        "  \n",
        "  print(f'{x}: {name}, original sale = {a}')\n",
        "  print(f'{x}: {name}, clearance sale = {c}') \n",
        "  print(f'{x}: {name}, total sales {total}') \n",
        "  print()"
      ],
      "metadata": {
        "id": "Kw31OOWJEZVe",
        "colab": {
          "base_uri": "https://localhost:8080/"
        },
        "outputId": "09d282a2-57af-46c3-b57a-19ee8c318bdb"
      },
      "execution_count": 59,
      "outputs": [
        {
          "output_type": "stream",
          "name": "stdout",
          "text": [
            "0: brownie, original sale = 34.0\n",
            "0: brownie, clearance sale = 0.0\n",
            "0: brownie, total sales 34.0\n",
            "\n",
            "1: cookie, original sale = 39.0\n",
            "1: cookie, clearance sale = 0.0\n",
            "1: cookie, total sales 39.0\n",
            "\n",
            "2: cake, original sale = 12.0\n",
            "2: cake, clearance sale = 12.0\n",
            "2: cake, total sales 24.0\n",
            "\n",
            "3: pie, original sale = 14.0\n",
            "3: pie, clearance sale = 3.5\n",
            "3: pie, total sales 17.5\n",
            "\n",
            "4: fudge, original sale = 13.5\n",
            "4: fudge, clearance sale = 13.5\n",
            "4: fudge, total sales 27.0\n",
            "\n",
            "5: cupcake, original sale = 48.0\n",
            "5: cupcake, clearance sale = 0.0\n",
            "5: cupcake, total sales 48.0\n",
            "\n",
            "6: banana bread, original sale = 20.0\n",
            "6: banana bread, clearance sale = 4.0\n",
            "6: banana bread, total sales 24.0\n",
            "\n"
          ]
        }
      ]
    },
    {
      "cell_type": "code",
      "source": [
        "  np.sum([34, 39, 24, 17.5, 27, 48, 24])  #Tried to use variables, but could not figure it out."
      ],
      "metadata": {
        "id": "rN4RSFlPEaQ4",
        "colab": {
          "base_uri": "https://localhost:8080/"
        },
        "outputId": "06086d79-43e4-4d52-869f-584eddfcb628"
      },
      "execution_count": 62,
      "outputs": [
        {
          "output_type": "execute_result",
          "data": {
            "text/plain": [
              "213.5"
            ]
          },
          "metadata": {},
          "execution_count": 62
        }
      ]
    },
    {
      "cell_type": "markdown",
      "source": [
        "Turn in this .ipynb file with your code and your solutions.\n"
      ],
      "metadata": {
        "id": "7skndT8zGJRv"
      }
    }
  ],
  "metadata": {
    "colab": {
      "provenance": [],
      "include_colab_link": true
    },
    "kernelspec": {
      "display_name": "Python 3 (ipykernel)",
      "language": "python",
      "name": "python3"
    },
    "language_info": {
      "codemirror_mode": {
        "name": "ipython",
        "version": 3
      },
      "file_extension": ".py",
      "mimetype": "text/x-python",
      "name": "python",
      "nbconvert_exporter": "python",
      "pygments_lexer": "ipython3",
      "version": "3.8.13"
    },
    "toc": {
      "base_numbering": 1,
      "nav_menu": {},
      "number_sections": false,
      "sideBar": true,
      "skip_h1_title": false,
      "title_cell": "Table of Contents",
      "title_sidebar": "Contents",
      "toc_cell": false,
      "toc_position": {},
      "toc_section_display": true,
      "toc_window_display": false
    }
  },
  "nbformat": 4,
  "nbformat_minor": 0
}